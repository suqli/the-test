{
 "cells": [
  {
   "cell_type": "code",
   "execution_count": 3,
   "metadata": {},
   "outputs": [],
   "source": [
    "from sklearn import datasets\n",
    "from sklearn.ensemble import RandomForestClassifier\n",
    "from sklearn.model_selection import train_test_split\n",
    "from sklearn.metrics import f1_score\n",
    "#数据集导入\n",
    "iris=datasets.load_iris()#从库中导入数据集\n",
    "feature=iris.feature_names\n",
    "X = iris.data#数据集\n",
    "y = iris.target#数据类型\n",
    "#随机森林\n",
    "clf=RandomForestClassifier(n_estimators=200)#决策树数目，\n",
    "train_X,test_X,train_y,test_y = train_test_split(X,y,test_size=0.1,random_state=5)#划分样品，确定测试样品占样品总量百分比，设计随机种子\n",
    "clf.fit(train_X,train_y)\n",
    "test_pred=clf.predict(test_X)"
   ]
  },
  {
   "cell_type": "markdown",
   "metadata": {},
   "source": [
    "sklearn （https://blog.csdn.net/u014248127/article/details/78885180） 是机器学习里非常重要的一个数据库，里面有许多机器学习算法，这里的iris是一个自带的数据集，里面是鸢尾花的一些信息。"
   ]
  },
  {
   "cell_type": "code",
   "execution_count": 7,
   "metadata": {},
   "outputs": [
    {
     "name": "stdout",
     "output_type": "stream",
     "text": [
      "['sepal length (cm)', 'sepal width (cm)', 'petal length (cm)', 'petal width (cm)']\n",
      "[0.0924403  0.01580964 0.41251115 0.4792389 ]\n"
     ]
    }
   ],
   "source": [
    "#特征的重要性查看\n",
    "print(str(feature)+'\\n'+str(clf.feature_importances_))"
   ]
  },
  {
   "cell_type": "code",
   "execution_count": 14,
   "metadata": {},
   "outputs": [
    {
     "name": "stdout",
     "output_type": "stream",
     "text": [
      "随机森林-macro： 0.818181818181818\n",
      "随机森林-weighted： 0.8\n"
     ]
    }
   ],
   "source": [
    "#F1-score 用于模型评价\n",
    "#如果是二分类问题则选择参数‘binary’\n",
    "#如果考虑类别的不平衡性，需要计算类别的加权平均，则使用‘weighted’\n",
    "#如果不考虑类别的不平衡性，计算宏平均，则使用‘macro’\n",
    "score=f1_score(test_y,test_pred,average='macro')\n",
    "print(\"随机森林-macro：\",score)\n",
    "score=f1_score(test_y,test_pred,average='weighted')\n",
    "print(\"随机森林-weighted：\",score)"
   ]
  },
  {
   "cell_type": "code",
   "execution_count": null,
   "metadata": {},
   "outputs": [],
   "source": []
  },
  {
   "cell_type": "code",
   "execution_count": null,
   "metadata": {
    "scrolled": true
   },
   "outputs": [],
   "source": []
  },
  {
   "cell_type": "code",
   "execution_count": null,
   "metadata": {},
   "outputs": [],
   "source": []
  },
  {
   "cell_type": "code",
   "execution_count": null,
   "metadata": {},
   "outputs": [],
   "source": []
  },
  {
   "cell_type": "code",
   "execution_count": null,
   "metadata": {},
   "outputs": [],
   "source": []
  }
 ],
 "metadata": {
  "kernelspec": {
   "display_name": "Python 3",
   "language": "python",
   "name": "python3"
  },
  "language_info": {
   "codemirror_mode": {
    "name": "ipython",
    "version": 3
   },
   "file_extension": ".py",
   "mimetype": "text/x-python",
   "name": "python",
   "nbconvert_exporter": "python",
   "pygments_lexer": "ipython3",
   "version": "3.8.5"
  }
 },
 "nbformat": 4,
 "nbformat_minor": 4
}
